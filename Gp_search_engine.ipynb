{
 "cells": [
  {
   "cell_type": "markdown",
   "metadata": {},
   "source": [
    "# Search engine\n",
    "---"
   ]
  },
  {
   "cell_type": "markdown",
   "metadata": {},
   "source": [
    "## Imports"
   ]
  },
  {
   "cell_type": "code",
   "execution_count": 54,
   "metadata": {},
   "outputs": [],
   "source": [
    "import requests\n",
    "import hashlib\n",
    "from bs4 import BeautifulSoup\n",
    "from collections import deque\n",
    "import urllib.request\n",
    "import re"
   ]
  },
  {
   "cell_type": "markdown",
   "metadata": {},
   "source": [
    "## Scraper"
   ]
  },
  {
   "cell_type": "code",
   "execution_count": 3,
   "metadata": {},
   "outputs": [],
   "source": [
    "# set starting web site \n",
    "URL = 'https://en.wikipedia.org/wiki/Chocolate'\n",
    "MAX_LEN = 20"
   ]
  },
  {
   "cell_type": "code",
   "execution_count": 123,
   "metadata": {},
   "outputs": [],
   "source": [
    "\"\"\"This method return all links crawled from one website in an array\n",
    "\n",
    "Returns:\n",
    "    list\n",
    "        a list of strings that are the links\n",
    "\"\"\"\n",
    "def crawl_for_links(url):\n",
    "    html_page = urllib.request.urlopen(url)\n",
    "    soup = BeautifulSoup(html_page)\n",
    "    links = []\n",
    "    # use regex to extract all links from url\n",
    "    \n",
    "    for link in soup.findAll('a', attrs={'href': re.compile(\"^http://\")}):\n",
    "        if(len(links) < MAX_LEN):\n",
    "            links.append(link.get('href'))\n",
    "        else:\n",
    "            break\n",
    "    return links"
   ]
  },
  {
   "cell_type": "code",
   "execution_count": 124,
   "metadata": {
    "scrolled": false
   },
   "outputs": [
    {
     "data": {
      "text/plain": [
       "['http://ndb.nal.usda.gov/ndb/foods/show/6153?fgcd=&manu=&lfacet=&format=&count=&max=35&offset=&sort=&qlookup=Candies%2C+milk+chocolate',\n",
       " 'http://www.pnas.org/content/108/21/8595',\n",
       " 'http://www.eluniversal.com.mx/notas/526113.html',\n",
       " 'http://archive.fieldmuseum.org/Chocolate/history_mesoamerican7.html',\n",
       " 'http://www.bartleby.com/61/68/C0316800.html',\n",
       " 'http://antiquity.ac.uk/projgall/powis/index.html',\n",
       " 'http://news.sciencemag.org/2013/01/earliest-evidence-chocolate-north-america',\n",
       " 'http://www.museum.upenn.edu/new/news/fullrelease.php?which=306',\n",
       " 'http://archive.fieldmuseum.org/Chocolate/history_mesoamerican5.html',\n",
       " 'http://archive.fieldmuseum.org/Chocolate/history_mesoamerican3.html',\n",
       " 'http://archive.fieldmuseum.org/Chocolate/history_mesoamerican4.html',\n",
       " 'http://archive.fieldmuseum.org/chocolate/history.html',\n",
       " 'http://findarticles.com/p/articles/mi_m1310/is_1990_Jan/ai_8560999',\n",
       " 'http://www.newyorker.com/reporting/2007/10/29/071029fa_fact_buford',\n",
       " 'http://www.exploratorium.edu/exploring/exploring_chocolate/',\n",
       " 'http://www.smithsonianmag.com/arts-culture/a-brief-history-of-chocolate-21860917/?no-ist',\n",
       " 'http://hdl.handle.net/2027/spo.did2222.0000.474',\n",
       " 'http://www.history.com/news/hungry-history/the-sweet-history-of-chocolate',\n",
       " 'http://www.bartleby.com/61/68/C0316800.html',\n",
       " 'http://www.etymonline.com/?term=Chocolate']"
      ]
     },
     "execution_count": 124,
     "metadata": {},
     "output_type": "execute_result"
    }
   ],
   "source": [
    "links_crawled = crawl_for_links(URL)\n",
    "links_crawled"
   ]
  },
  {
   "cell_type": "code",
   "execution_count": 125,
   "metadata": {},
   "outputs": [
    {
     "name": "stdout",
     "output_type": "stream",
     "text": [
      "a7464bdbf7454b2ab532e1a6c882cd68\n"
     ]
    }
   ],
   "source": [
    "hash_object = hashlib.md5(b'https://en.wikipedia.org/wiki/Chocolate')\n",
    "print(hash_object.hexdigest())"
   ]
  },
  {
   "cell_type": "code",
   "execution_count": 126,
   "metadata": {},
   "outputs": [],
   "source": [
    "def hashfunction(url): \n",
    "    hash_object = hashlib.md5(url.encode('utf-8')).hexdigest()\n",
    "    return hash_object"
   ]
  },
  {
   "cell_type": "code",
   "execution_count": 127,
   "metadata": {},
   "outputs": [
    {
     "data": {
      "text/plain": [
       "'a7464bdbf7454b2ab532e1a6c882cd68'"
      ]
     },
     "execution_count": 127,
     "metadata": {},
     "output_type": "execute_result"
    }
   ],
   "source": [
    "hashfunction('https://en.wikipedia.org/wiki/Chocolate')"
   ]
  },
  {
   "cell_type": "code",
   "execution_count": 128,
   "metadata": {},
   "outputs": [],
   "source": [
    "def store_website_locally (url): \n",
    "    response = requests.get(url, allow_redirects=True)\n",
    "    filename = hashfunction(url)\n",
    "    open('/data/' + filename + '.txt', 'wb').write(response.content)"
   ]
  },
  {
   "cell_type": "code",
   "execution_count": 129,
   "metadata": {},
   "outputs": [],
   "source": [
    "store_website_locally('https://en.wikipedia.org/wiki/Chocolate')"
   ]
  }
 ],
 "metadata": {
  "file_extension": ".py",
  "kernelspec": {
   "display_name": "Python 3",
   "language": "python",
   "name": "python3"
  },
  "language_info": {
   "codemirror_mode": {
    "name": "ipython",
    "version": 3
   },
   "file_extension": ".py",
   "mimetype": "text/x-python",
   "name": "python",
   "nbconvert_exporter": "python",
   "pygments_lexer": "ipython3",
   "version": "3.7.3"
  },
  "mimetype": "text/x-python",
  "name": "python",
  "npconvert_exporter": "python",
  "pygments_lexer": "ipython3",
  "version": 3
 },
 "nbformat": 4,
 "nbformat_minor": 2
}
