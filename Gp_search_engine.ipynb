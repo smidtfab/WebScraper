{
 "cells": [
  {
   "cell_type": "markdown",
   "metadata": {},
   "source": [
    "# Search engine\n",
    "---"
   ]
  },
  {
   "cell_type": "markdown",
   "metadata": {},
   "source": [
    "## Web crawler"
   ]
  },
  {
   "cell_type": "code",
   "execution_count": 14,
   "metadata": {},
   "outputs": [],
   "source": [
    "# Import needed packages\n",
    "import requests\n",
    "from bs4 import BeautifulSoup as BS"
   ]
  },
  {
   "cell_type": "markdown",
   "metadata": {},
   "source": [
    "Theme: \n",
    "=> Seed site:"
   ]
  },
  {
   "cell_type": "code",
   "execution_count": 17,
   "metadata": {},
   "outputs": [],
   "source": [
    "seed = requests.get('https://www.fastcompany.com/90455358/ai-can-now-design-cities-should-we-let-it')     #URL of choice\n",
    "discovered = []\n",
    "dowloaded = []\n",
    "\n",
    "# Get links from seed\n",
    "soup0 = BS(seed.text, \"lxml\")\n",
    "    \n",
    "for link in soup0.find_all('a'):\n",
    "    discovered.append(link.get('href'))\n",
    "dowloaded.append(soup0)\n",
    "    \n",
    "#while len(dowloaded) < 20:"
   ]
  },
  {
   "cell_type": "code",
   "execution_count": 18,
   "metadata": {},
   "outputs": [
    {
     "name": "stdout",
     "output_type": "stream",
     "text": [
      "105\n",
      "/\n",
      "https://www.facebook.com/FastCompany/\n",
      "https://twitter.com/fastcompany\n",
      "https://www.instagram.com/fastcompany/\n",
      "https://www.linkedin.com/company/fast-company\n",
      "https://www.youtube.com/user/FastCompany\n",
      "/co-design\n",
      "/technology\n",
      "/work-life\n",
      "/creativity\n",
      "/impact\n",
      "/section/audio\n",
      "/videos\n",
      "/news\n",
      "/recommender\n",
      "None\n",
      "/newsletters\n",
      "https://magazine.fastcompany.com/loc/FST/topnav1\n",
      "https://podcasts.apple.com/us/artist/fast-company/1393767793\n",
      "/user/fastco-works\n",
      "/fcw/att\n",
      "/fcw/cummins\n",
      "/fcw/SAP\n",
      "/fcw/staples\n",
      "/\n",
      "/co-design\n",
      "/technology\n",
      "/work-life\n",
      "/creativity\n",
      "/impact\n",
      "/section/audio\n",
      "/videos\n",
      "/news\n",
      "/recommender\n",
      "https://magazine.fastcompany.com/loc/FST/sidenav1999\n",
      "https://fastcompany.zendesk.com/hc/en-us\n",
      "None\n",
      "/fcw/att\n",
      "/fcw/bowlero\n",
      "/fcw/citrix\n",
      "/fcw/cummins\n",
      "/fcw/instagram\n",
      "/fcw/intuit-quickbooks\n",
      "/fcw/mckinsey__company\n",
      "/fcw/pwc\n",
      "/fcw/sap\n",
      "/fcw/staples\n",
      "/fcw/verizon\n",
      "/user/fastco-works\n",
      "None\n",
      "/section/tech-forecast\n",
      "/most-innovative-companies/2019\n",
      "/most-creative-people/2019\n",
      "/section/world-changing-ideas\n",
      "/innovation-by-design\n",
      "https://www.fastcompany.com/newsletters\n",
      "None\n",
      "https://events.festival.fastcompany.com/\n",
      "https://events.fastcompany.com/fcgrill/\n",
      "https://catalog.mindedge.com/fastcompany\n",
      "https://images.fastcompany.net/image/upload/v1572457392/fcweb/Mediakit_2019_10.17.19_alrvfp.pdf\n",
      "https://www.fastcompany.com/magazine/\n",
      "https://www.fastcompany.com/magazine/\n",
      "https://magazine.fastcompany.com/loc/FST/sidenav1999\n",
      "https://www.facebook.com/FastCompany/\n",
      "https://twitter.com/fastcompany\n",
      "https://www.instagram.com/fastcompany/\n",
      "https://www.linkedin.com/company/fast-company\n",
      "/90455358/ai-can-now-design-cities-should-we-let-it\n",
      "https://www.facebook.com/sharer.php?u=https://www.fastcompany.com/90455358/ai-can-now-design-cities-should-we-let-it&app_id=178479832213933&display=popup\n",
      "https://twitter.com/share?url=https://www.fastcompany.com/90455358/ai-can-now-design-cities-should-we-let-it&text=AI%20can%20now%20design%20cities.%20Should%20we%20let%20it%3F\n",
      "https://www.linkedin.com/shareArticle?mini=true&url=https://www.fastcompany.com/90455358/ai-can-now-design-cities-should-we-let-it&media=AI%20can%20now%20design%20cities.%20Should%20we%20let%20it%3F\n",
      "mailto:?body=AI%20can%20now%20design%20cities.%20Should%20we%20let%20it%3F https://www.fastcompany.com/90455358/ai-can-now-design-cities-should-we-let-it&subject=AI%20can%20now%20design%20cities.%20Should%20we%20let%20it%3F\n",
      "/user/mark-wilson\n",
      "https://www.fastcompany.com/1664885/mits-place-pulse-a-hot-or-not-for-cities-to-fix-broken-blocks\n",
      "https://goodcitylife.org/facelift/index.php#513d67c6fdc9f0358700416d\n",
      "https://www.fastcompany.com/90162494/the-war-on-whats-real\n",
      "https://www.fastcompany.com/90329383/stressed-out-by-office-life-this-scientist-prescribes-nature-pills\n",
      "/user/mark-wilson\n",
      "//www.fastcompany.com/newsletters\n",
      "//fastcompany.com/videos\n",
      "/impact\n",
      "/90457908/eating-honey-is-more-complicated-than-you-might-think\n",
      "/90456075/here-are-11-more-neighborhoods-that-have-joined-the-car-free-revolution\n",
      "/90456827/ups-is-buying-10000-of-these-cute-electric-delivery-trucks\n",
      "/creativity\n",
      "/90458199/here-are-the-super-bowl-commercial-lines-that-will-make-you-cringe-the-most\n",
      "/90457484/how-reginald-hudlins-creative-risk-taking-has-shaped-black-and-pop-culture\n",
      "/90457666/popeyes-puts-its-uniforms-on-sale-and-beyonce-fans-have-a-spicy-response\n",
      "/co-design\n",
      "/90457576/truecars-redesign-targets-the-people-who-really-buy-cars-women\n",
      "/90457388/barbies-latest-dolls-are-bald-and-have-vitiligo\n",
      "/90456774/this-5000-iphone-was-inspired-by-the-cybertruck\n",
      "/work-life\n",
      "/90456980/5-questions-to-ask-when-you-need-help-finding-your-purpose\n",
      "/90457413/the-only-4-sentences-you-need-for-a-cover-letter-that-gets-noticed\n",
      "/90457557/mentoring-is-worth-your-time-heres-how-you-can-be-great-at-it\n",
      "https://images.fastcompany.net/image/upload/v1572457392/fcweb/Mediakit_2019_10.17.19_alrvfp.pdf\n",
      "https://www.fastcompany.com/privacy-policy\n",
      "https://www.fastcompany.com/terms-and-conditions\n",
      "https://kudos.fastcompany.com\n",
      "https://www.fastcompany.com/contact-us\n",
      "https://www.fastcompany.com/about-us\n",
      "/sitemap\n",
      "/\n"
     ]
    }
   ],
   "source": [
    "# test cell\n",
    "print(len(discovered))\n",
    "for i in range(len(discovered)):\n",
    "    print(discovered[i])"
   ]
  }
 ],
 "metadata": {
  "kernelspec": {
   "display_name": "Python 3",
   "language": "python",
   "name": "python3"
  },
  "language_info": {
   "codemirror_mode": {
    "name": "ipython",
    "version": 3
   },
   "file_extension": ".py",
   "mimetype": "text/x-python",
   "name": "python",
   "nbconvert_exporter": "python",
   "pygments_lexer": "ipython3",
   "version": "3.6.9"
  }
 },
 "nbformat": 4,
 "nbformat_minor": 2
}
