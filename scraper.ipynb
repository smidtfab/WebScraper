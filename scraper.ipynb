{
 "nbformat": 4,
 "nbformat_minor": 2,
 "metadata": {
  "language_info": {
   "name": "python",
   "codemirror_mode": {
    "name": "ipython",
    "version": 3
   },
   "version": "3.7.6-final"
  },
  "orig_nbformat": 2,
  "file_extension": ".py",
  "mimetype": "text/x-python",
  "name": "python",
  "npconvert_exporter": "python",
  "pygments_lexer": "ipython3",
  "version": 3,
  "kernelspec": {
   "name": "python3",
   "display_name": "Python 3"
  }
 },
 "cells": [
  {
   "cell_type": "code",
   "execution_count": 1,
   "metadata": {},
   "outputs": [],
   "source": [
    "import requests\n",
    "from bs4 import BeautifulSoup\n",
    "from collections import deque\n",
    "import urllib.request\n",
    "import re"
   ]
  },
  {
   "cell_type": "code",
   "execution_count": 2,
   "metadata": {},
   "outputs": [],
   "source": [
    "# set starting web site \n",
    "URL = 'https://en.wikipedia.org/wiki/Google'"
   ]
  },
  {
   "cell_type": "code",
   "execution_count": 3,
   "metadata": {},
   "outputs": [],
   "source": [
    "\"\"\"This method return all links crawled from one website in an array\n",
    "\n",
    "Returns:\n",
    "    list\n",
    "        a list of strings that are the links\n",
    "\"\"\"\n",
    "def crawl_for_links(url):\n",
    "    html_page = urllib.request.urlopen(url)\n",
    "    soup = BeautifulSoup(html_page)\n",
    "    links = []\n",
    "    # use regex to extract all links from url\n",
    "    for link in soup.findAll('a', attrs={'href': re.compile(\"^http://\")}):\n",
    "        links.append(link.get('href'))\n",
    "    return links"
   ]
  },
  {
   "cell_type": "code",
   "execution_count": 4,
   "metadata": {},
   "outputs": [
    {
     "data": {
      "text/plain": "['http://investor.google.com/pdf/2014Q4_google_earnings_data.pdf',\n 'http://www.barrons.com/articles/ranking-the-big-four-internet-stocks-google-is-no-1-apple-comes-in-last-1503412102',\n 'http://www.alexa.com/siteinfo/google.com',\n 'http://ilpubs.stanford.edu:8090/422/',\n 'http://www-diglib.stanford.edu/cgi-bin/WP/get/SIDL-WP-1997-0072?1',\n 'http://mentalfloss.com/article/20890/9-people-places-things-changed-their-names',\n 'http://huron.stanford.edu',\n 'http://infolab.stanford.edu/pub/papers/google.pdf',\n 'http://www.rankdex.com/about.html',\n 'http://graphics.stanford.edu/~dk/google_name_origin.html',\n 'http://www.stanforddaily.com/2003/02/12/from-googol-to-google',\n 'http://alan.blog-city.com/an_evening_with_googles_marissa_mayer.htm',\n 'http://whois.domaintools.com/google.com',\n 'http://www-cs-students.stanford.edu/~csilvers/',\n 'http://articles.sfgate.com/2008-09-07/news/17161124_1_larry-page-google-search-engine',\n 'http://www.sfgate.com/cgi-bin/article.cgi?file=/chronicle/archive/2004/04/29/MNGLD6CFND34.DTL',\n 'http://www.businessinsider.com/google-history-in-photos-2015-10',\n 'http://www.google.com/press/pressrel/pressrelease39.html',\n 'http://www.computerhistory.org/collections/accession/102662167',\n 'http://news.cnet.com/Googles-movin-on-up/2110-1032_3-1025111.html',\n 'http://sanjose.bizjournals.com/sanjose/stories/2006/06/19/newscolumn3.html',\n 'http://googleblog.blogspot.com/2006/10/do-you-google.html',\n 'http://msnbc.msn.com/id/13720643/',\n 'http://money.cnn.com/2008/01/18/news/companies/google.fortune/index.htm',\n 'http://www.businessweek.com/technology/content/aug2004/tc20040819_6843_tc120.htm',\n 'http://investor.google.com/pdf/2004_AnnualReport.pdf',\n 'http://money.cnn.com/2004/04/29/technology/google/',\n 'http://itsalltech.com/2011/06/22/googles-new-record-1-billion-visitors-in-may/',\n 'http://investor.google.com/releases/2011/0815.html',\n 'http://googleblog.blogspot.com/2011/08/supercharging-android-google-to-acquire.html',\n 'http://www.appleinsider.com/articles/11/08/15/google_ceo_anticompetitive_apple_microsoft_forced_motorola_deal.html',\n 'http://news.cnet.com/8301-1035_3-20092362-94/google-to-buy-motorola-mobility-for-$12.5b/',\n 'http://mashable.com/2013/01/22/google-q4-earnings/#42cbeRCbSkqH',\n 'http://www.pcworld.com/article/2091500/google-acquires-artificial-intelligence-company-deepmind.html',\n 'http://interbrand.com/best-brands/best-global-brands/2013/ranking/#?listFormat=ls',\n 'http://interbrand.com/best-brands/best-global-brands/2014/ranking/#?listFormat=ls',\n 'http://interbrand.com/best-brands/best-global-brands/2015/ranking/#?listFormat=ls',\n 'http://interbrand.com/best-brands/best-global-brands/2016/ranking/#?listFormat=ls',\n 'http://www.alexa.com/siteinfo/youtube.com',\n 'http://www.alexa.com/siteinfo/blogger.com',\n 'http://www.businessinsider.com/david-brooks-sundar-pichai-resignation-james-damore-2017-8',\n 'http://fortune.com/2018/11/03/google-employees-walkout-demands/',\n 'http://social.techcrunch.com/2019/12/11/paypals-exiting-coo-bill-ready-to-join-google-as-its-new-president-of-commerce/',\n 'http://www.comscore.com/Press_Events/Press_Releases/2009/12/comScore_Releases_November_2009_U.S._Search_Engine_Rankings',\n 'http://www.time.com/time/business/article/0,8599,356152,00.html',\n 'http://www.infoworld.com/t/platforms/google-hit-second-lawsuit-over-library-project-722',\n 'http://pdf.secdatabase.com/44/0001193125-12-025336.pdf',\n 'http://www.webopedia.com/TERM/A/adwords.html',\n 'http://www.webopedia.com/TERM/A/adsense.html',\n 'http://news.cnet.com/Google-to-offer-advertisers-click-fraud-stats/2100-1024_3-6098469.html',\n 'http://bgr.com/2013/03/20/google-keep-annnounced-388095/',\n 'http://time.com/4572942/google-translate-app-update-2016/',\n 'http://mashable.com/2017/02/27/youtube-one-billion-hours-of-video-daily/',\n 'http://money.cnn.com/2014/06/25/technology/innovation/google-cardboard/',\n 'http://money.cnn.com/2015/04/22/technology/google-project-fi-wireless-service/',\n 'http://mashable.com/2017/02/09/google-station-pune-india/',\n 'http://www.mercurynews.com/business/ci_24171776/exclusive-google-same-day-delivery-makes-public-debut',\n 'http://weblogs.baltimoresun.com/business/hancock/blog/2007/10/google_shares_hit_700.html',\n 'http://money.cnn.com/2005/05/25/technology/techinvestor/lamonica/index.htm',\n 'http://www.androidpolice.com/2013/10/18/google-beats-analyst-estimates-for-third-quarter-results-stock-passes-1000-per-share/',\n 'http://www.marketwatch.com/investing/stock/goog',\n 'http://graphics.stanford.edu/~dk/google_name_origin.html',\n 'http://www.stanforddaily.com/2003/02/12/from-googol-to-google/',\n 'http://www.mercurynews.com/mld/mercurynews/business/14985574.htm',\n 'http://msnbc.msn.com/id/13720643/',\n 'http://www.ndtv.com/photos/news/happy-birthday-google--8267#photo-99345',\n 'http://money.cnn.com/magazines/fortune/fortune_archive/2007/01/22/8398125/index.htm',\n 'http://money.cnn.com/magazines/fortune/bestcompanies/2008/full_list/index.html',\n 'http://money.cnn.com/magazines/fortune/best-companies/2012/full_list/',\n 'http://money.cnn.com/magazines/fortune/bestcompanies/2009/full_list/index.html',\n 'http://money.cnn.com/magazines/fortune/bestcompanies/2010/full_list/',\n 'http://www.universumglobal.com/IDEAL-Employer-Rankings/Global-Top-50',\n 'http://www.smh.com.au/news/technology/search-giant-may-outgrow-its-fans/2005/08/25/1124562975596.html3001.asp',\n 'http://www.osnews.com/story/17928/Google--Dont-Be-Evil',\n 'http://www.zdnet.com.au/meet-google-s-culture-czar-339275147.htm',\n 'http://news.cnet.com/Google-hit-with-job-discrimination-lawsuit/2100-1030_3-5807158.html?tag=nl',\n 'http://www.ctv.ca/servlet/ArticleNews/story/CTVNews/20071006/google_old_071006/20071006',\n 'http://uk.pcmag.com/news/93278/report-alphabet-is-buying-chelsea-market-for-over-2b',\n 'http://www.informationweek.com/news/internet/webdev/showArticle.jhtml?articleID=202600809',\n 'http://www.thepittsburghchannel.com/technology/10346550/detail.html',\n 'http://triblive.com/x/pittsburghtrib/business/s_712700.html',\n 'http://indianexpress.com/article/india/google-to-build-biggest-campus-outside-us-in-hyderabad/',\n 'http://tech.firstpost.com/news-analysis/googles-upcoming-campus-in-hyderabad-to-be-its-biggest-outside-the-us-267059.html',\n 'http://arquivo.pt/wayback/20160519010259/http://www.post1.net/lowem/entry/google_plans_to_build_huge',\n 'http://www.post1.net/lowem/entry/google_plans_to_build_huge',\n 'http://www.technobuffalo.com/2011/05/18/googles-green-initiative-environmentally-conscious-technology/',\n 'http://news.cnet.com/8301-11128_3-10456435-54.html',\n 'http://qz.com/125407/google-is-on-the-way-to-quietly-becoming-an-electric-utility/',\n 'http://news.techworld.com/green-it/3232690/google-buys-power-from-iowa-wind-farm/?olo=rss',\n 'http://fortune.com/2017/12/01/google-clean-energy/',\n 'http://www.google.org/about.html',\n 'http://www.project10tothe100.com/',\n 'http://googleblog.blogspot.com/2010/09/10-million-for-project-10100-winners.html',\n 'http://www.pinknews.co.uk/2012/07/08/google-launches-legalise-love-gay-rights-campaign/',\n 'http://news.bbc.co.uk/2/hi/technology/6740075.stm',\n 'http://news.bbc.co.uk/1/hi/technology/4645596.stm',\n 'http://europa.eu/rapid/press-release_IP-17-685_hr.htm',\n 'http://www.google.com/',\n 'http://google.stanford.edu/',\n 'http://www.baselinemag.com/c/a/Infrastructure/How-Google-Works-1',\n 'http://cantic.bnc.cat/registres/CUCId/a10914717',\n 'http://isni.org/isni/0000000406356729']"
     },
     "execution_count": 4,
     "metadata": {},
     "output_type": "execute_result"
    }
   ],
   "source": [
    "crawl_for_links(URL)"
   ]
  }
 ]
}